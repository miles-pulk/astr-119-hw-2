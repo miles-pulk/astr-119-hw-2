{
 "cells": [
  {
   "cell_type": "code",
   "execution_count": null,
   "metadata": {},
   "outputs": [],
   "source": [
    "%matplotlib inline\n",
    "import numpy as np\n",
    "import matplotlib.pyplot as plt\n"
   ]
  },
  {
   "cell_type": "code",
   "execution_count": null,
   "metadata": {},
   "outputs": [],
   "source": [
    "x = np.linspace(0.0, 2.0*np.pi, 1000) #inclusive array from 0 to 2pi with 1000 values\n",
    "y = np.cos(2*x) + 5.5           #function 1\n",
    "z = np.exp(x)*0.02              #function 2\n",
    "w = (x**2)*0.25 + 0.1*np.sin(10*x)   #function 3\n",
    "plt.plot(x,y)     \n",
    "plt.plot(x,z)\n",
    "plt.plot(x,w)\n",
    "plt.ylabel(r'$Measures\\ of\\ Awesomeness$')\n",
    "plt.xlabel(r'$Time\\ in\\ ASTR/EART\\ 119$')\n",
    "plt.xlim([0,2*np.pi])  #axis range\n",
    "plt.ylim([-1,10])      #axis domain\n",
    "\n",
    "plt.show()"
   ]
  },
  {
   "cell_type": "code",
   "execution_count": null,
   "metadata": {},
   "outputs": [],
   "source": []
  }
 ],
 "metadata": {
  "kernelspec": {
   "display_name": "Python 3",
   "language": "python",
   "name": "python3"
  },
  "language_info": {
   "codemirror_mode": {
    "name": "ipython",
    "version": 3
   },
   "file_extension": ".py",
   "mimetype": "text/x-python",
   "name": "python",
   "nbconvert_exporter": "python",
   "pygments_lexer": "ipython3",
   "version": "3.6.6"
  }
 },
 "nbformat": 4,
 "nbformat_minor": 2
}
